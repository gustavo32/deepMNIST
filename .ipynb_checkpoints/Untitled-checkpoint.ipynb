{
 "cells": [
  {
   "cell_type": "code",
   "execution_count": 232,
   "metadata": {},
   "outputs": [],
   "source": [
    "import numpy as np\n",
    "import pandas as pd\n",
    "import tensorflow as tf\n",
    "from tensorflow import keras\n",
    "from tensorflow.keras import layers\n",
    "import matplotlib.pyplot as plt\n",
    "from sklearn.preprocessing import OneHotEncoder\n",
    "import os\n",
    "from datetime import datetime"
   ]
  },
  {
   "cell_type": "code",
   "execution_count": 233,
   "metadata": {},
   "outputs": [],
   "source": [
    "layers = [512, 256, 64, 32, 10]\n",
    "learning_rate = 0.01\n",
    "n_epochs = 10001\n",
    "BATCH_SIZE = 128\n",
    "n_inputs = 28*28"
   ]
  },
  {
   "cell_type": "code",
   "execution_count": 234,
   "metadata": {},
   "outputs": [],
   "source": [
    "tf.reset_default_graph()\n",
    "\n",
    "train_data = pd.read_csv(\"train.csv\")\n",
    "\n",
    "# train_labels = pd.get_dummies(train_data.iloc[:, 0]).values\n",
    "train_labels = train_data.iloc[:, 0].values\n",
    "train_data = train_data.iloc[:, 1:].values\n",
    "\n",
    "batch_size = tf.placeholder(tf.int64, name=\"batch_size\")\n",
    "X_train = tf.placeholder(tf.float64, shape=[None, n_inputs], name=\"X\")\n",
    "y_train = tf.placeholder(tf.int64, shape=[None], name=\"y\")\n",
    "\n",
    "def map_fn(data, labels):\n",
    "    data = tf.math.divide(data, 255)\n",
    "    return data, labels\n",
    "\n",
    "dataset = tf.data.Dataset.from_tensor_slices((X_train, y_train)).repeat().shuffle(len(train_data))\n",
    "dataset = dataset.batch(batch_size)\n",
    "dataset = dataset.map(map_fn, num_parallel_calls = 6)\n",
    "dataset = dataset.prefetch(1)\n",
    "\n",
    "iter = dataset.make_initializable_iterator()\n",
    "data, labels = iter.get_next()"
   ]
  },
  {
   "cell_type": "code",
   "execution_count": 235,
   "metadata": {},
   "outputs": [],
   "source": [
    "with tf.name_scope(\"dnn\"):\n",
    "#     input_x = keras.Input(data.get_shape().as_list())\n",
    "#     X = layers.Dense(layers[0], activation=\"relu\")(input_x)\n",
    "#     X = layers.Dense(layers[1], activation=\"relu\")(X)\n",
    "#     X = layers.Dense(layers[2], activation=\"relu\")(X)\n",
    "#     X = layers.Dense(layers[3], activation=\"relu\")(X)\n",
    "#     logits = layers.Dense(layers[4], activation=\"softmax\")(X)\n",
    "    X = tf.layers.dense(data, layers[0], name=\"hidden1\", activation=tf.nn.relu)\n",
    "    X = tf.layers.dense(X, layers[1], name=\"hidden2\", activation=tf.nn.relu)\n",
    "    X = tf.layers.dense(X, layers[2], name=\"hidden3\", activation=tf.nn.relu)\n",
    "    X = tf.layers.dense(X, layers[3], name=\"hidden4\", activation=tf.nn.relu)\n",
    "    logits = tf.layers.dense(X, layers[4], name=\"outputs\")\n",
    "    logits = tf.cast(logits, tf.float32)\n",
    "\n",
    "with tf.name_scope(\"loss\"):\n",
    "    xentropy = tf.nn.sparse_softmax_cross_entropy_with_logits(labels=labels, logits=logits)\n",
    "    loss = tf.reduce_mean(xentropy, name=\"loss\")\n",
    "    loss_summary = tf.summary.scalar(\"log_loss\", loss)\n",
    "\n",
    "with tf.name_scope(\"train\"):\n",
    "    optimizer = tf.train.AdamOptimizer(learning_rate)\n",
    "    training_op = optimizer.minimize(loss)\n",
    "    \n",
    "with tf.name_scope(\"eval\"):\n",
    "    correct = tf.nn.in_top_k(logits, labels, 1)\n",
    "    accuracy = tf.reduce_mean(tf.cast(correct, tf.float64), name=\"accuracy\")\n",
    "    accuracy_summary = tf.summary.scalar(\"log_accuracy\", accuracy)\n",
    "\n",
    "with tf.name_scope(\"init\"):\n",
    "    init = tf.global_variables_initializer()\n",
    "    saver = tf.train.Saver()"
   ]
  },
  {
   "cell_type": "code",
   "execution_count": 236,
   "metadata": {},
   "outputs": [],
   "source": [
    "def logdir(prefix=\"\"):\n",
    "    now = datetime.utcnow().strftime(\"%Y%m%d%H%M%S\")\n",
    "    root_dir = \"tf_logs/\"\n",
    "    return root_dir + prefix + \"run-\" + now"
   ]
  },
  {
   "cell_type": "code",
   "execution_count": 237,
   "metadata": {},
   "outputs": [
    {
     "name": "stdout",
     "output_type": "stream",
     "text": [
      "Loss: 2.2024984\n",
      "Loss: 0.2695753\n",
      "Loss: 0.08184102\n",
      "Loss: 0.15467983\n",
      "Loss: 0.25552264\n",
      "Loss: 0.18730646\n",
      "Loss: 0.1107737\n",
      "Loss: 0.15065469\n",
      "Loss: 0.08642544\n",
      "Loss: 0.09526177\n",
      "Loss: 0.14102837\n",
      "Loss: 0.033934936\n",
      "Loss: 0.016181301\n",
      "Loss: 0.17646277\n",
      "Loss: 0.023184948\n",
      "Loss: 0.079176456\n",
      "Loss: 0.06035475\n",
      "Loss: 0.06638764\n",
      "Loss: 0.16067265\n",
      "Loss: 0.12561038\n",
      "Loss: 0.06995963\n",
      "Loss: 0.30922982\n",
      "Loss: 0.026876625\n",
      "Loss: 0.011878263\n",
      "Loss: 0.06211539\n",
      "Loss: 0.0028885908\n",
      "Loss: 0.053361483\n",
      "Loss: 0.033372775\n",
      "Loss: 0.12991177\n",
      "Loss: 0.007403091\n",
      "Loss: 0.13390607\n",
      "Loss: 0.09340446\n",
      "Loss: 0.023044206\n",
      "Loss: 0.0871343\n",
      "Loss: 0.011494789\n",
      "Loss: 0.00866142\n",
      "Loss: 0.050684687\n",
      "Loss: 0.052046333\n",
      "Loss: 0.018907497\n",
      "Loss: 0.018714996\n",
      "Loss: 0.0026278682\n",
      "Loss: 0.0477068\n",
      "Loss: 0.05102425\n",
      "Loss: 0.014315032\n",
      "Loss: 0.03329836\n",
      "Loss: 0.16090775\n",
      "Loss: 0.06872197\n",
      "Loss: 0.044256013\n",
      "Loss: 0.009348968\n",
      "Loss: 0.03658461\n",
      "Loss: 0.0036338652\n",
      "Acurácia: 0.9917380952380952\n"
     ]
    }
   ],
   "source": [
    "checkpoint_path = \"/tmp/deep_mnist_dnn.ckpt\"\n",
    "checkpoint_epoch_path = checkpoint_path + \".epoch\"\n",
    "checkpoint_final_model = \"./tmp/deep_mnist_dnn.ckpt\"\n",
    "\n",
    "file_writer = tf.summary.FileWriter(logdir(\"MNIST\"), tf.get_default_graph())\n",
    "\n",
    "with tf.Session() as sess:\n",
    "    sess.run(iter.initializer, feed_dict={X_train: train_data, y_train: train_labels, batch_size: BATCH_SIZE})\n",
    "    \n",
    "    if os.path.isfile(checkpoint_epoch_path):\n",
    "        with open(checkpoint_epoch_path, \"rb\") as f:\n",
    "            start_epoch = int(f.read())\n",
    "        print(\"Foi interrompido! Parou no {} epoch\".format(start_epoch))\n",
    "        saver.restore(sess, checkpoint_path)\n",
    "        \n",
    "    else:\n",
    "        start_epoch = 0\n",
    "        sess.run(init)\n",
    "    \n",
    "    for epoch in range(start_epoch, n_epochs):\n",
    "        _, _loss_summary, _accuracy_summary = sess.run([training_op, loss_summary, accuracy_summary])\n",
    "        \n",
    "        if epoch % 10 == 0:\n",
    "            file_writer.add_summary(_loss_summary, epoch)\n",
    "            file_writer.add_summary(_accuracy_summary, epoch)\n",
    "            saver.save(sess, checkpoint_path)\n",
    "            with open(checkpoint_epoch_path, \"wb\") as f:\n",
    "                f.write(b\"%d\" % (epoch + 1))\n",
    "                \n",
    "        if epoch % 200 == 0:\n",
    "            loss_val = sess.run(loss)\n",
    "            print(\"Loss:\", loss_val)\n",
    "    \n",
    "    saver.save(sess, checkpoint_final_model)\n",
    "    sess.run(iter.initializer, feed_dict={X_train: train_data, y_train: train_labels, batch_size: 42000})\n",
    "    accuracy_val, data_val = sess.run([accuracy, data])\n",
    "    print(\"Acurácia:\", accuracy_val)\n",
    "    \n",
    "    os.remove(checkpoint_epoch_path)"
   ]
  },
  {
   "cell_type": "code",
   "execution_count": 240,
   "metadata": {},
   "outputs": [
    {
     "name": "stdout",
     "output_type": "stream",
     "text": [
      "INFO:tensorflow:Restoring parameters from /tmp/deep_mnist_dnn.ckpt\n"
     ]
    },
    {
     "ename": "ValueError",
     "evalue": "Cannot feed value of shape () for Tensor 'y:0', which has shape '(?,)'",
     "output_type": "error",
     "traceback": [
      "\u001b[1;31m---------------------------------------------------------------------------\u001b[0m",
      "\u001b[1;31mValueError\u001b[0m                                Traceback (most recent call last)",
      "\u001b[1;32m<ipython-input-240-645f5d54cf74>\u001b[0m in \u001b[0;36m<module>\u001b[1;34m\u001b[0m\n\u001b[0;32m      4\u001b[0m \u001b[1;32mwith\u001b[0m \u001b[0mtf\u001b[0m\u001b[1;33m.\u001b[0m\u001b[0mSession\u001b[0m\u001b[1;33m(\u001b[0m\u001b[1;33m)\u001b[0m \u001b[1;32mas\u001b[0m \u001b[0msess\u001b[0m\u001b[1;33m:\u001b[0m\u001b[1;33m\u001b[0m\u001b[0m\n\u001b[0;32m      5\u001b[0m     \u001b[0msaver\u001b[0m\u001b[1;33m.\u001b[0m\u001b[0mrestore\u001b[0m\u001b[1;33m(\u001b[0m\u001b[0msess\u001b[0m\u001b[1;33m,\u001b[0m \u001b[0mcheckpoint_path\u001b[0m\u001b[1;33m)\u001b[0m\u001b[1;33m\u001b[0m\u001b[0m\n\u001b[1;32m----> 6\u001b[1;33m     \u001b[0msess\u001b[0m\u001b[1;33m.\u001b[0m\u001b[0mrun\u001b[0m\u001b[1;33m(\u001b[0m\u001b[0miter\u001b[0m\u001b[1;33m.\u001b[0m\u001b[0minitializer\u001b[0m\u001b[1;33m,\u001b[0m \u001b[0mfeed_dict\u001b[0m\u001b[1;33m=\u001b[0m\u001b[1;33m{\u001b[0m\u001b[0mX_train\u001b[0m\u001b[1;33m:\u001b[0m \u001b[0mtest_data\u001b[0m\u001b[1;33m,\u001b[0m \u001b[0my_train\u001b[0m\u001b[1;33m:\u001b[0m \u001b[1;36m0\u001b[0m\u001b[1;33m,\u001b[0m \u001b[0mbatch_size\u001b[0m\u001b[1;33m:\u001b[0m \u001b[0mlen\u001b[0m\u001b[1;33m(\u001b[0m\u001b[0mtest_data\u001b[0m\u001b[1;33m)\u001b[0m\u001b[1;33m}\u001b[0m\u001b[1;33m)\u001b[0m\u001b[1;33m\u001b[0m\u001b[0m\n\u001b[0m\u001b[0;32m      7\u001b[0m     \u001b[0mlogits\u001b[0m \u001b[1;33m=\u001b[0m \u001b[0msess\u001b[0m\u001b[1;33m.\u001b[0m\u001b[0mrun\u001b[0m\u001b[1;33m(\u001b[0m\u001b[0mlogits\u001b[0m\u001b[1;33m)\u001b[0m\u001b[1;33m\u001b[0m\u001b[0m\n\u001b[0;32m      8\u001b[0m     \u001b[0my_pred\u001b[0m \u001b[1;33m=\u001b[0m \u001b[0mtf\u001b[0m\u001b[1;33m.\u001b[0m\u001b[0margmax\u001b[0m\u001b[1;33m(\u001b[0m\u001b[0mlogits\u001b[0m\u001b[1;33m,\u001b[0m \u001b[0maxis\u001b[0m\u001b[1;33m=\u001b[0m\u001b[1;36m1\u001b[0m\u001b[1;33m)\u001b[0m\u001b[1;33m\u001b[0m\u001b[0m\n",
      "\u001b[1;32mc:\\users\\luis_\\appdata\\local\\programs\\python\\python37\\lib\\site-packages\\tensorflow\\python\\client\\session.py\u001b[0m in \u001b[0;36mrun\u001b[1;34m(self, fetches, feed_dict, options, run_metadata)\u001b[0m\n\u001b[0;32m    927\u001b[0m     \u001b[1;32mtry\u001b[0m\u001b[1;33m:\u001b[0m\u001b[1;33m\u001b[0m\u001b[0m\n\u001b[0;32m    928\u001b[0m       result = self._run(None, fetches, feed_dict, options_ptr,\n\u001b[1;32m--> 929\u001b[1;33m                          run_metadata_ptr)\n\u001b[0m\u001b[0;32m    930\u001b[0m       \u001b[1;32mif\u001b[0m \u001b[0mrun_metadata\u001b[0m\u001b[1;33m:\u001b[0m\u001b[1;33m\u001b[0m\u001b[0m\n\u001b[0;32m    931\u001b[0m         \u001b[0mproto_data\u001b[0m \u001b[1;33m=\u001b[0m \u001b[0mtf_session\u001b[0m\u001b[1;33m.\u001b[0m\u001b[0mTF_GetBuffer\u001b[0m\u001b[1;33m(\u001b[0m\u001b[0mrun_metadata_ptr\u001b[0m\u001b[1;33m)\u001b[0m\u001b[1;33m\u001b[0m\u001b[0m\n",
      "\u001b[1;32mc:\\users\\luis_\\appdata\\local\\programs\\python\\python37\\lib\\site-packages\\tensorflow\\python\\client\\session.py\u001b[0m in \u001b[0;36m_run\u001b[1;34m(self, handle, fetches, feed_dict, options, run_metadata)\u001b[0m\n\u001b[0;32m   1126\u001b[0m                              \u001b[1;34m'which has shape %r'\u001b[0m \u001b[1;33m%\u001b[0m\u001b[1;33m\u001b[0m\u001b[0m\n\u001b[0;32m   1127\u001b[0m                              (np_val.shape, subfeed_t.name,\n\u001b[1;32m-> 1128\u001b[1;33m                               str(subfeed_t.get_shape())))\n\u001b[0m\u001b[0;32m   1129\u001b[0m           \u001b[1;32mif\u001b[0m \u001b[1;32mnot\u001b[0m \u001b[0mself\u001b[0m\u001b[1;33m.\u001b[0m\u001b[0mgraph\u001b[0m\u001b[1;33m.\u001b[0m\u001b[0mis_feedable\u001b[0m\u001b[1;33m(\u001b[0m\u001b[0msubfeed_t\u001b[0m\u001b[1;33m)\u001b[0m\u001b[1;33m:\u001b[0m\u001b[1;33m\u001b[0m\u001b[0m\n\u001b[0;32m   1130\u001b[0m             \u001b[1;32mraise\u001b[0m \u001b[0mValueError\u001b[0m\u001b[1;33m(\u001b[0m\u001b[1;34m'Tensor %s may not be fed.'\u001b[0m \u001b[1;33m%\u001b[0m \u001b[0msubfeed_t\u001b[0m\u001b[1;33m)\u001b[0m\u001b[1;33m\u001b[0m\u001b[0m\n",
      "\u001b[1;31mValueError\u001b[0m: Cannot feed value of shape () for Tensor 'y:0', which has shape '(?,)'"
     ]
    }
   ],
   "source": [
    "test_data = pd.read_csv(\"test.csv\")\n",
    "test_data = test_data.values\n",
    "\n",
    "with tf.Session() as sess:\n",
    "    saver.restore(sess, checkpoint_path)\n",
    "    sess.run(iter.initializer, feed_dict={X_train: test_data, y_train: test_data[0], batch_size: len(test_data)})\n",
    "    logits = sess.run(logits)\n",
    "    y_pred = tf.argmax(logits, axis=1)"
   ]
  },
  {
   "cell_type": "code",
   "execution_count": null,
   "metadata": {},
   "outputs": [],
   "source": []
  }
 ],
 "metadata": {
  "kernelspec": {
   "display_name": "Python 3",
   "language": "python",
   "name": "python3"
  },
  "language_info": {
   "codemirror_mode": {
    "name": "ipython",
    "version": 3
   },
   "file_extension": ".py",
   "mimetype": "text/x-python",
   "name": "python",
   "nbconvert_exporter": "python",
   "pygments_lexer": "ipython3",
   "version": "3.7.0"
  }
 },
 "nbformat": 4,
 "nbformat_minor": 2
}
