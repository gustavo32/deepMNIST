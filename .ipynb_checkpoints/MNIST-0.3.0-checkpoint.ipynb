{
 "cells": [
  {
   "cell_type": "code",
   "execution_count": 65,
   "metadata": {},
   "outputs": [],
   "source": [
    "import numpy as np\n",
    "import pandas as pd\n",
    "import tensorflow as tf\n",
    "from tensorflow import keras\n",
    "from tensorflow.keras import layers\n",
    "import matplotlib.pyplot as plt\n",
    "from sklearn.preprocessing import OneHotEncoder\n",
    "from sklearn.model_selection import train_test_split\n",
    "import os\n",
    "from datetime import datetime\n",
    "from functools import partial"
   ]
  },
  {
   "cell_type": "code",
   "execution_count": 66,
   "metadata": {},
   "outputs": [],
   "source": [
    "layers = [100, 100, 100, 100, 100, 5]\n",
    "learning_rate = 0.01\n",
    "n_epochs = 10001\n",
    "BATCH_SIZE = 128\n",
    "n_inputs = 28*28"
   ]
  },
  {
   "cell_type": "code",
   "execution_count": 67,
   "metadata": {},
   "outputs": [
    {
     "name": "stdout",
     "output_type": "stream",
     "text": [
      "(21416, 784)\n"
     ]
    }
   ],
   "source": [
    "tf.reset_default_graph()\n",
    "\n",
    "train_data = pd.read_csv(\"train.csv\")\n",
    "\n",
    "train_labels = train_data.iloc[:, 0].values\n",
    "boolean_indices = train_labels < 5 \n",
    "train_labels = train_labels[boolean_indices]\n",
    "\n",
    "train_data = train_data.iloc[:, 1:].values\n",
    "train_data = train_data[boolean_indices]\n",
    "\n",
    "print(train_data.shape)\n",
    "\n",
    "train_data, test_data, train_labels, test_labels = train_test_split(train_data, train_labels, test_size=0.1, stratify=train_labels)"
   ]
  },
  {
   "cell_type": "code",
   "execution_count": 68,
   "metadata": {},
   "outputs": [],
   "source": [
    "batch_size = tf.placeholder(tf.int64, name=\"batch_size\")\n",
    "training = tf.placeholder_with_default(False, shape=[], name=\"training\")\n",
    "X = tf.placeholder(tf.float64, shape=[None, n_inputs], name=\"X\")\n",
    "y = tf.placeholder(tf.int64, shape=[None], name=\"y\")\n",
    "\n",
    "def map_fn(data, labels):\n",
    "    data = tf.math.divide(data, 255)\n",
    "    return data, labels\n",
    "\n",
    "dataset = tf.data.Dataset.from_tensor_slices((X, y))\n",
    "\n",
    "if training is not None:\n",
    "    dataset = dataset.repeat().shuffle(len(train_data))\n",
    "    \n",
    "dataset = dataset.batch(batch_size)\n",
    "dataset = dataset.map(map_fn, num_parallel_calls = 6)\n",
    "dataset = dataset.prefetch(1)\n",
    "\n",
    "iteration = dataset.make_initializable_iterator()\n",
    "data, labels = iteration.get_next()"
   ]
  },
  {
   "cell_type": "code",
   "execution_count": 69,
   "metadata": {},
   "outputs": [],
   "source": [
    "with tf.name_scope(\"dnn\"):\n",
    "#     input_x = keras.Input(data.get_shape().as_list())\n",
    "#     X = layers.Dense(layers[0], activation=\"relu\")(input_x)\n",
    "#     X = layers.Dense(layers[1], activation=\"relu\")(X)\n",
    "#     X = layers.Dense(layers[2], activation=\"relu\")(X)\n",
    "#     X = layers.Dense(layers[3], activation=\"relu\")(X)\n",
    "#     logits = layers.Dense(layers[4], activation=\"softmax\")(X)\n",
    "    my_model = partial(tf.layers.dense, activation=tf.nn.elu)\n",
    "\n",
    "    hidden1 = my_model(data, layers[0], name=\"hidden1\")\n",
    "    hidden2 = my_model(hidden1, layers[1], name=\"hidden2\")\n",
    "    hidden3 = my_model(hidden2, layers[2], name=\"hidden3\")\n",
    "    hidden4 = my_model(hidden3, layers[3], name=\"hidden4\")\n",
    "    hidden5 = my_model(hidden4, layers[4], name=\"hidden5\")\n",
    "    logits = tf.layers.dense(hidden5, layers[5], name=\"outputs\")\n",
    "    logits = tf.cast(logits, tf.float32)\n",
    "\n",
    "with tf.name_scope(\"loss\"):\n",
    "    xentropy = tf.nn.sparse_softmax_cross_entropy_with_logits(labels=labels, logits=logits)\n",
    "    loss = tf.reduce_mean(xentropy, name=\"loss\")\n",
    "    loss_summary = tf.summary.scalar(\"log_loss\", loss)\n",
    "\n",
    "with tf.name_scope(\"train\"):\n",
    "    optimizer = tf.train.AdamOptimizer(learning_rate)\n",
    "    training_op = optimizer.minimize(loss)\n",
    "    \n",
    "with tf.name_scope(\"eval\"):\n",
    "    correct = tf.nn.in_top_k(logits, labels, 1)\n",
    "    accuracy = tf.reduce_mean(tf.cast(correct, tf.float64), name=\"accuracy\")\n",
    "    accuracy_summary = tf.summary.scalar(\"log_accuracy\", accuracy)\n",
    "\n",
    "with tf.name_scope(\"init\"):\n",
    "    init = tf.global_variables_initializer()\n",
    "    saver = tf.train.Saver()"
   ]
  },
  {
   "cell_type": "code",
   "execution_count": 70,
   "metadata": {},
   "outputs": [],
   "source": [
    "def logdir(prefix=\"\"):\n",
    "    now = datetime.utcnow().strftime(\"%Y%m%d%H%M%S\")\n",
    "    root_dir = \"tf_logs/\"\n",
    "    return root_dir + prefix + \"run-\" + now"
   ]
  },
  {
   "cell_type": "code",
   "execution_count": 71,
   "metadata": {},
   "outputs": [
    {
     "name": "stdout",
     "output_type": "stream",
     "text": [
      "Best Loss: 1.678217\t\tTrain Score:0.4062\n",
      "Best Loss: 0.002999\t\tTrain Score:0.9766\n",
      "Best Loss: 0.002957\t\tTrain Score:0.9688\n",
      "Best Loss: 0.001623\t\tTrain Score:0.9922\n",
      "Best Loss: 0.000670\t\tTrain Score:1.0000\n",
      "Best Loss: 0.000265\t\tTrain Score:0.9922\n",
      "Best Loss: 0.000070\t\tTrain Score:0.9688\n",
      "Best Loss: 0.000070\t\tTrain Score:0.9922\n",
      "Early Stopping!\n",
      "Train Accuracy Score: 0.9921875\n",
      "Validation Accuracy Score: 0.9765625\n"
     ]
    }
   ],
   "source": [
    "checkpoint_path = \"/tmp/deep_mnist_dnn.ckpt\"\n",
    "checkpoint_epoch_path = checkpoint_path + \".epoch\"\n",
    "checkpoint_final_model = \"./tmp/deep_mnist_dnn.ckpt\"\n",
    "\n",
    "file_writer = tf.summary.FileWriter(logdir(\"MNIST\"), tf.get_default_graph())\n",
    "best_loss = np.infty\n",
    "counter_early_stopping=0\n",
    "counter_max_value = 400\n",
    "\n",
    "\n",
    "with tf.Session() as sess:\n",
    "    sess.run(iteration.initializer, feed_dict={X: train_data, y: train_labels, training: True, batch_size: BATCH_SIZE})\n",
    "    \n",
    "    if os.path.isfile(checkpoint_epoch_path):\n",
    "        with open(checkpoint_epoch_path, \"rb\") as f:\n",
    "            start_epoch = int(f.read())\n",
    "        print(\"Foi interrompido! Parou no {} epoch\".format(start_epoch))\n",
    "        saver.restore(sess, checkpoint_path)\n",
    "        \n",
    "    else:\n",
    "        start_epoch = 0\n",
    "        sess.run(init)\n",
    "    \n",
    "    for epoch in range(start_epoch, n_epochs):\n",
    "        _, _loss_summary, _accuracy_summary, loss_value = sess.run([training_op, loss_summary, accuracy_summary, loss])\n",
    "        \n",
    "        if loss_value < best_loss:\n",
    "            best_loss = loss_value\n",
    "            counter_early_stopping=0\n",
    "        else:\n",
    "            counter_early_stopping+=1\n",
    "            if counter_early_stopping > counter_max_value:\n",
    "                print(\"Early Stopping!\")\n",
    "                break\n",
    "        \n",
    "        if epoch % 10 == 0:\n",
    "            file_writer.add_summary(_loss_summary, epoch)\n",
    "            file_writer.add_summary(_accuracy_summary, epoch)\n",
    "            saver.save(sess, checkpoint_path)\n",
    "            with open(checkpoint_epoch_path, \"wb\") as f:\n",
    "                f.write(b\"%d\" % (epoch + 1))\n",
    "                \n",
    "        if epoch % 200 == 0:\n",
    "            accuracy_value = sess.run(accuracy)\n",
    "            print(\"Best Loss: {:.6f}\\t\\tTrain Score: {:.4f}\".format(best_loss, accuracy_value))\n",
    "    \n",
    "    accuracy_train = sess.run(accuracy)\n",
    "    saver.save(sess, checkpoint_final_model)\n",
    "    \n",
    "    sess.run(iteration.initializer, feed_dict={X: test_data, y: test_labels, batch_size: BATCH_SIZE})\n",
    "    accuracy_val = sess.run(accuracy)\n",
    "    print(\"Train Accuracy Score: {}\\nValidation Accuracy Score: {}\".format(accuracy_train, accuracy_val))\n",
    "    \n",
    "    os.remove(checkpoint_epoch_path)"
   ]
  },
  {
   "cell_type": "code",
   "execution_count": 72,
   "metadata": {},
   "outputs": [],
   "source": [
    "# test_data = pd.read_csv(\"test.csv\")\n",
    "# test_data = test_data.values\n",
    "\n",
    "# with tf.Session() as sess:\n",
    "#     saver.restore(sess, checkpoint_path)\n",
    "#     sess.run(iter.initializer, feed_dict={X_train: test_data, y_train: test_data[0], batch_size: len(test_data)})\n",
    "#     logits = sess.run(logits)\n",
    "#     y_pred = tf.argmax(logits, axis=1)"
   ]
  },
  {
   "cell_type": "code",
   "execution_count": null,
   "metadata": {},
   "outputs": [],
   "source": []
  }
 ],
 "metadata": {
  "kernelspec": {
   "display_name": "Python 3",
   "language": "python",
   "name": "python3"
  },
  "language_info": {
   "codemirror_mode": {
    "name": "ipython",
    "version": 3
   },
   "file_extension": ".py",
   "mimetype": "text/x-python",
   "name": "python",
   "nbconvert_exporter": "python",
   "pygments_lexer": "ipython3",
   "version": "3.7.0"
  }
 },
 "nbformat": 4,
 "nbformat_minor": 2
}
