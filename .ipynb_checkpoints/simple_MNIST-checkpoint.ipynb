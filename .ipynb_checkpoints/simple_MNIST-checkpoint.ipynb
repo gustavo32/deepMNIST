{
 "cells": [
  {
   "cell_type": "code",
   "execution_count": 1,
   "metadata": {},
   "outputs": [],
   "source": [
    "import numpy as np\n",
    "import pandas as pd\n",
    "import tensorflow as tf\n",
    "from tensorflow import keras\n",
    "from tensorflow.keras import layers\n",
    "import matplotlib.pyplot as plt\n",
    "from sklearn.preprocessing import OneHotEncoder\n",
    "import os\n",
    "from datetime import datetime"
   ]
  },
  {
   "cell_type": "code",
   "execution_count": 2,
   "metadata": {},
   "outputs": [],
   "source": [
    "layers = [512, 256, 64, 32, 10]\n",
    "learning_rate = 0.01\n",
    "n_epochs = 10001\n",
    "BATCH_SIZE = 128\n",
    "n_inputs = 28*28"
   ]
  },
  {
   "cell_type": "code",
   "execution_count": 3,
   "metadata": {},
   "outputs": [
    {
     "name": "stdout",
     "output_type": "stream",
     "text": [
      "WARNING:tensorflow:From c:\\users\\luis_\\appdata\\local\\programs\\python\\python37\\lib\\site-packages\\tensorflow\\python\\data\\ops\\dataset_ops.py:1419: colocate_with (from tensorflow.python.framework.ops) is deprecated and will be removed in a future version.\n",
      "Instructions for updating:\n",
      "Colocations handled automatically by placer.\n"
     ]
    }
   ],
   "source": [
    "tf.reset_default_graph()\n",
    "\n",
    "train_data = pd.read_csv(\"train.csv\")\n",
    "\n",
    "# train_labels = pd.get_dummies(train_data.iloc[:, 0]).values\n",
    "train_labels = train_data.iloc[:, 0].values\n",
    "train_data = train_data.iloc[:, 1:].values\n",
    "\n",
    "batch_size = tf.placeholder(tf.int64, name=\"batch_size\")\n",
    "X_train = tf.placeholder(tf.float64, shape=[None, n_inputs], name=\"X\")\n",
    "y_train = tf.placeholder(tf.int64, shape=[None], name=\"y\")\n",
    "\n",
    "def map_fn(data, labels):\n",
    "    data = tf.math.divide(data, 255)\n",
    "    return data, labels\n",
    "\n",
    "dataset = tf.data.Dataset.from_tensor_slices((X_train, y_train)).repeat().shuffle(len(train_data))\n",
    "dataset = dataset.batch(batch_size)\n",
    "dataset = dataset.map(map_fn, num_parallel_calls = 6)\n",
    "dataset = dataset.prefetch(1)\n",
    "\n",
    "iter = dataset.make_initializable_iterator()\n",
    "data, labels = iter.get_next()"
   ]
  },
  {
   "cell_type": "code",
   "execution_count": 4,
   "metadata": {},
   "outputs": [
    {
     "name": "stdout",
     "output_type": "stream",
     "text": [
      "WARNING:tensorflow:From <ipython-input-4-499e7092443d>:8: dense (from tensorflow.python.layers.core) is deprecated and will be removed in a future version.\n",
      "Instructions for updating:\n",
      "Use keras.layers.dense instead.\n"
     ]
    }
   ],
   "source": [
    "with tf.name_scope(\"dnn\"):\n",
    "#     input_x = keras.Input(data.get_shape().as_list())\n",
    "#     X = layers.Dense(layers[0], activation=\"relu\")(input_x)\n",
    "#     X = layers.Dense(layers[1], activation=\"relu\")(X)\n",
    "#     X = layers.Dense(layers[2], activation=\"relu\")(X)\n",
    "#     X = layers.Dense(layers[3], activation=\"relu\")(X)\n",
    "#     logits = layers.Dense(layers[4], activation=\"softmax\")(X)\n",
    "    X = tf.layers.dense(data, layers[0], name=\"hidden1\", activation=tf.nn.relu)\n",
    "    X = tf.layers.dense(X, layers[1], name=\"hidden2\", activation=tf.nn.relu)\n",
    "    X = tf.layers.dense(X, layers[2], name=\"hidden3\", activation=tf.nn.relu)\n",
    "    X = tf.layers.dense(X, layers[3], name=\"hidden4\", activation=tf.nn.relu)\n",
    "    logits = tf.layers.dense(X, layers[4], name=\"outputs\")\n",
    "    logits = tf.cast(logits, tf.float32)\n",
    "\n",
    "with tf.name_scope(\"loss\"):\n",
    "    xentropy = tf.nn.sparse_softmax_cross_entropy_with_logits(labels=labels, logits=logits)\n",
    "    loss = tf.reduce_mean(xentropy, name=\"loss\")\n",
    "    loss_summary = tf.summary.scalar(\"log_loss\", loss)\n",
    "\n",
    "with tf.name_scope(\"train\"):\n",
    "    optimizer = tf.train.AdamOptimizer(learning_rate)\n",
    "    training_op = optimizer.minimize(loss)\n",
    "    \n",
    "with tf.name_scope(\"eval\"):\n",
    "    correct = tf.nn.in_top_k(logits, labels, 1)\n",
    "    accuracy = tf.reduce_mean(tf.cast(correct, tf.float64), name=\"accuracy\")\n",
    "    accuracy_summary = tf.summary.scalar(\"log_accuracy\", accuracy)\n",
    "\n",
    "with tf.name_scope(\"init\"):\n",
    "    init = tf.global_variables_initializer()\n",
    "    saver = tf.train.Saver()"
   ]
  },
  {
   "cell_type": "code",
   "execution_count": 5,
   "metadata": {},
   "outputs": [],
   "source": [
    "def logdir(prefix=\"\"):\n",
    "    now = datetime.utcnow().strftime(\"%Y%m%d%H%M%S\")\n",
    "    root_dir = \"tf_logs/\"\n",
    "    return root_dir + prefix + \"run-\" + now"
   ]
  },
  {
   "cell_type": "code",
   "execution_count": 6,
   "metadata": {},
   "outputs": [
    {
     "name": "stdout",
     "output_type": "stream",
     "text": [
      "Loss: 2.794714\n",
      "Loss: 0.16117744\n",
      "Loss: 0.1658683\n",
      "Loss: 0.15098894\n",
      "Loss: 0.21804836\n",
      "Loss: 0.07607374\n",
      "Loss: 0.07206031\n",
      "Loss: 0.0424272\n",
      "Loss: 0.019824905\n",
      "Loss: 0.056597244\n",
      "Loss: 0.107983306\n",
      "Loss: 0.06225872\n",
      "Loss: 0.029216219\n",
      "Loss: 0.13108659\n",
      "Loss: 0.024098335\n",
      "Loss: 0.08824241\n",
      "Loss: 0.05189989\n",
      "Loss: 0.08222313\n",
      "Loss: 0.06689666\n",
      "Loss: 0.10889284\n",
      "Loss: 0.0054689767\n",
      "Loss: 0.014820401\n",
      "Loss: 0.012117587\n",
      "Loss: 0.12861028\n",
      "Loss: 0.03070535\n",
      "Loss: 0.07905093\n",
      "Loss: 0.009290557\n",
      "Loss: 0.07145942\n",
      "Loss: 0.0062580197\n",
      "Loss: 0.0134721\n",
      "Loss: 0.12422284\n",
      "Loss: 0.043478042\n",
      "Loss: 0.08991945\n",
      "Loss: 0.022389643\n",
      "Loss: 0.007200082\n",
      "Loss: 0.06318578\n",
      "Loss: 0.018198134\n",
      "Loss: 0.08109903\n",
      "Loss: 0.00080188055\n",
      "Loss: 0.014475787\n",
      "Loss: 0.035639096\n",
      "Loss: 0.025075838\n",
      "Loss: 0.003733269\n",
      "Loss: 0.0013149573\n",
      "Loss: 0.00572297\n",
      "Loss: 0.13953087\n",
      "Loss: 0.30337235\n",
      "Loss: 0.0078293225\n",
      "Loss: 0.024879554\n",
      "Loss: 0.006560499\n",
      "Loss: 0.016784476\n",
      "Acurácia: 0.9927619047619047\n"
     ]
    }
   ],
   "source": [
    "checkpoint_path = \"/tmp/deep_mnist_dnn.ckpt\"\n",
    "checkpoint_epoch_path = checkpoint_path + \".epoch\"\n",
    "checkpoint_final_model = \"./tmp/deep_mnist_dnn.ckpt\"\n",
    "\n",
    "file_writer = tf.summary.FileWriter(logdir(\"MNIST\"), tf.get_default_graph())\n",
    "\n",
    "with tf.Session() as sess:\n",
    "    sess.run(iter.initializer, feed_dict={X_train: train_data, y_train: train_labels, batch_size: BATCH_SIZE})\n",
    "    \n",
    "    if os.path.isfile(checkpoint_epoch_path):\n",
    "        with open(checkpoint_epoch_path, \"rb\") as f:\n",
    "            start_epoch = int(f.read())\n",
    "        print(\"Foi interrompido! Parou no {} epoch\".format(start_epoch))\n",
    "        saver.restore(sess, checkpoint_path)\n",
    "        \n",
    "    else:\n",
    "        start_epoch = 0\n",
    "        sess.run(init)\n",
    "    \n",
    "    for epoch in range(start_epoch, n_epochs):\n",
    "        _, _loss_summary, _accuracy_summary = sess.run([training_op, loss_summary, accuracy_summary])\n",
    "        \n",
    "        if epoch % 10 == 0:\n",
    "            file_writer.add_summary(_loss_summary, epoch)\n",
    "            file_writer.add_summary(_accuracy_summary, epoch)\n",
    "            saver.save(sess, checkpoint_path)\n",
    "            with open(checkpoint_epoch_path, \"wb\") as f:\n",
    "                f.write(b\"%d\" % (epoch + 1))\n",
    "                \n",
    "        if epoch % 200 == 0:\n",
    "            loss_val = sess.run(loss)\n",
    "            print(\"Loss:\", loss_val)\n",
    "    \n",
    "    saver.save(sess, checkpoint_final_model)\n",
    "    sess.run(iter.initializer, feed_dict={X_train: train_data, y_train: train_labels, batch_size: 42000})\n",
    "    accuracy_val, data_val = sess.run([accuracy, data])\n",
    "    print(\"Train Accuracy Score:\", accuracy_val)\n",
    "    \n",
    "    os.remove(checkpoint_epoch_path)"
   ]
  },
  {
   "cell_type": "code",
   "execution_count": 7,
   "metadata": {},
   "outputs": [],
   "source": [
    "# test_data = pd.read_csv(\"test.csv\")\n",
    "# test_data = test_data.values\n",
    "\n",
    "# with tf.Session() as sess:\n",
    "#     saver.restore(sess, checkpoint_path)\n",
    "#     sess.run(iter.initializer, feed_dict={X_train: test_data, y_train: test_data[0], batch_size: len(test_data)})\n",
    "#     logits = sess.run(logits)\n",
    "#     y_pred = tf.argmax(logits, axis=1)"
   ]
  },
  {
   "cell_type": "code",
   "execution_count": null,
   "metadata": {},
   "outputs": [],
   "source": []
  }
 ],
 "metadata": {
  "kernelspec": {
   "display_name": "Python 3",
   "language": "python",
   "name": "python3"
  },
  "language_info": {
   "codemirror_mode": {
    "name": "ipython",
    "version": 3
   },
   "file_extension": ".py",
   "mimetype": "text/x-python",
   "name": "python",
   "nbconvert_exporter": "python",
   "pygments_lexer": "ipython3",
   "version": "3.7.0"
  }
 },
 "nbformat": 4,
 "nbformat_minor": 2
}
